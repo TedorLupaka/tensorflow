{
 "cells": [
  {
   "cell_type": "markdown",
   "id": "297cae31",
   "metadata": {},
   "source": [
    "# Deep Learning with Tensorflow"
   ]
  },
  {
   "cell_type": "code",
   "execution_count": 1,
   "id": "00eab64b",
   "metadata": {},
   "outputs": [],
   "source": [
    "import tensorflow as tf\n",
    "import numpy as np\n"
   ]
  },
  {
   "cell_type": "markdown",
   "id": "6ee04b9c",
   "metadata": {},
   "source": [
    "## Creating Tensors\n",
    "* Tensors are the basic building blocks in writing AI programs with tensorflow. A tensor can basically be defined as a multi-dimensional array of values.\n",
    "* "
   ]
  },
  {
   "cell_type": "code",
   "execution_count": null,
   "id": "06e8e371",
   "metadata": {},
   "outputs": [],
   "source": []
  },
  {
   "cell_type": "code",
   "execution_count": 7,
   "id": "52f0ab1d",
   "metadata": {},
   "outputs": [],
   "source": [
    "rank_tensor = tf.Variable([[\"hey\", \"ki\", \"de\"], [\"ko\", \"th\", \"fg\"]], [[\"d\", \"e\", \"b\"]])"
   ]
  },
  {
   "cell_type": "code",
   "execution_count": 8,
   "id": "2e3ceff9",
   "metadata": {},
   "outputs": [
    {
     "data": {
      "text/plain": [
       "<tf.Tensor: shape=(), dtype=int32, numpy=2>"
      ]
     },
     "execution_count": 8,
     "metadata": {},
     "output_type": "execute_result"
    }
   ],
   "source": [
    "tf.rank(rank_tensor)"
   ]
  },
  {
   "cell_type": "code",
   "execution_count": null,
   "id": "0f00e7e5",
   "metadata": {},
   "outputs": [],
   "source": []
  }
 ],
 "metadata": {
  "kernelspec": {
   "display_name": "Python 3 (ipykernel)",
   "language": "python",
   "name": "python3"
  },
  "language_info": {
   "codemirror_mode": {
    "name": "ipython",
    "version": 3
   },
   "file_extension": ".py",
   "mimetype": "text/x-python",
   "name": "python",
   "nbconvert_exporter": "python",
   "pygments_lexer": "ipython3",
   "version": "3.10.3"
  }
 },
 "nbformat": 4,
 "nbformat_minor": 5
}
