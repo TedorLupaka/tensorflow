{
 "cells": [
  {
   "cell_type": "markdown",
   "id": "297cae31",
   "metadata": {},
   "source": [
    "# Deep Learning with Tensorflow"
   ]
  },
  {
   "cell_type": "code",
   "execution_count": 3,
   "id": "00eab64b",
   "metadata": {},
   "outputs": [],
   "source": [
    "import tensorflow as tf\n",
    "import numpy as np\n"
   ]
  },
  {
   "cell_type": "markdown",
   "id": "6ee04b9c",
   "metadata": {},
   "source": [
    "## Creating Tensors\n",
    "* Tensors are the basic building blocks in writing AI programs in tensorflow. A tensor can basically be defined as a multi-dimensional array of values.\n",
    "* Common tensors include the type variable, constant and zeros. Example intialization below:"
   ]
  },
  {
   "cell_type": "code",
   "execution_count": 9,
   "id": "06e8e371",
   "metadata": {},
   "outputs": [
    {
     "name": "stdout",
     "output_type": "stream",
     "text": [
      "<tf.Variable 'Variable:0' shape=(3,) dtype=string, numpy=array([b'a', b'b', b'c'], dtype=object)>\n",
      "tf.Tensor([b'v' b'd' b'm'], shape=(3,), dtype=string)\n"
     ]
    }
   ],
   "source": [
    "variable_tensor = tf.Variable([\"a\", \"b\", \"c\"])\n",
    "constant_tensor = tf.constant([\"v\", \"d\", \"m\"])\n",
    "\n",
    "print(variable_tensor)\n",
    "print(constant_tensor)\n",
    "\n",
    "#The zero, ones and fills functions create tensors of a single value. \n",
    "# The required arguement is only the shape of the desired tensor."
   ]
  },
  {
   "cell_type": "markdown",
   "id": "74204160",
   "metadata": {},
   "source": [
    "## Checking the rank of a Tensors"
   ]
  },
  {
   "cell_type": "code",
   "execution_count": 12,
   "id": "52f0ab1d",
   "metadata": {},
   "outputs": [
    {
     "name": "stdout",
     "output_type": "stream",
     "text": [
      "<tf.Variable 'Variable:0' shape=(3, 3) dtype=string, numpy=\n",
      "array([[b'hey', b'ki', b'de'],\n",
      "       [b'ko', b'th', b'fg'],\n",
      "       [b'd', b'e', b'b']], dtype=object)>\n"
     ]
    },
    {
     "data": {
      "text/plain": [
       "<tf.Tensor: shape=(), dtype=int32, numpy=2>"
      ]
     },
     "execution_count": 12,
     "metadata": {},
     "output_type": "execute_result"
    }
   ],
   "source": [
    "rank_tensor = tf.Variable([[\"hey\", \"ki\", \"de\"], [\"ko\", \"th\", \"fg\"], [\"d\", \"e\", \"b\"]])\n",
    "print(rank_tensor)\n",
    "tf.rank(rank_tensor) #rank 2 (vector)"
   ]
  },
  {
   "cell_type": "markdown",
   "id": "112a68ba",
   "metadata": {},
   "source": [
    "## Transforming Tensors\n",
    "* The dominant transformation we will make use of is the reshape function."
   ]
  },
  {
   "cell_type": "code",
   "execution_count": 13,
   "id": "2e3ceff9",
   "metadata": {},
   "outputs": [
    {
     "name": "stdout",
     "output_type": "stream",
     "text": [
      "tf.Tensor(\n",
      "[[b'hey']\n",
      " [b'ki']\n",
      " [b'de']\n",
      " [b'ko']\n",
      " [b'th']\n",
      " [b'fg']\n",
      " [b'd']\n",
      " [b'e']\n",
      " [b'b']], shape=(9, 1), dtype=string)\n"
     ]
    }
   ],
   "source": [
    "vec = tf.reshape(rank_tensor, [9,1])\n",
    "print(vec)"
   ]
  },
  {
   "cell_type": "markdown",
   "id": "24f94e8c",
   "metadata": {},
   "source": [
    "## Basic mathematical operations on tensors\n",
    "* These include add, multiply, subtract, divide. These functions are accessed through the tf package."
   ]
  },
  {
   "cell_type": "code",
   "execution_count": null,
   "id": "0f00e7e5",
   "metadata": {},
   "outputs": [],
   "source": [
    "tf.add() #Takes in an argument of the tensors to be operated on\n",
    "tf.multiply()\n",
    "tf.divide()\n",
    "tf.subtract()"
   ]
  },
  {
   "cell_type": "markdown",
   "id": "8ae4e95f",
   "metadata": {},
   "source": [
    "# Exponents and logarithms\n",
    "* Deep learning algorithms often make use of exponential and logarithmic math. "
   ]
  }
 ],
 "metadata": {
  "kernelspec": {
   "display_name": "Python 3 (ipykernel)",
   "language": "python",
   "name": "python3"
  },
  "language_info": {
   "codemirror_mode": {
    "name": "ipython",
    "version": 3
   },
   "file_extension": ".py",
   "mimetype": "text/x-python",
   "name": "python",
   "nbconvert_exporter": "python",
   "pygments_lexer": "ipython3",
   "version": "3.10.3"
  }
 },
 "nbformat": 4,
 "nbformat_minor": 5
}
