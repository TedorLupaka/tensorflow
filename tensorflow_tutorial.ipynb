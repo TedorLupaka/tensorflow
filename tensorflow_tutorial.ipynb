{
 "cells": [
  {
   "cell_type": "markdown",
   "id": "297cae31",
   "metadata": {},
   "source": [
    "# Deep Learning with Tensorflow"
   ]
  },
  {
   "cell_type": "code",
   "execution_count": 3,
   "id": "00eab64b",
   "metadata": {},
   "outputs": [],
   "source": [
    "import tensorflow as tf\n",
    "import numpy as np\n"
   ]
  },
  {
   "cell_type": "markdown",
   "id": "6ee04b9c",
   "metadata": {},
   "source": [
    "## Creating Tensors\n",
    "* Tensors are the basic building blocks in writing AI programs in tensorflow. A tensor can basically be defined as a multi-dimensional array of values.\n",
    "* Common tensors include the type variable, constant and zeros. Example intialization below:"
   ]
  },
  {
   "cell_type": "code",
   "execution_count": 9,
   "id": "06e8e371",
   "metadata": {},
   "outputs": [
    {
     "name": "stdout",
     "output_type": "stream",
     "text": [
      "<tf.Variable 'Variable:0' shape=(3,) dtype=string, numpy=array([b'a', b'b', b'c'], dtype=object)>\n",
      "tf.Tensor([b'v' b'd' b'm'], shape=(3,), dtype=string)\n"
     ]
    }
   ],
   "source": [
    "variable_tensor = tf.Variable([\"a\", \"b\", \"c\"])\n",
    "constant_tensor = tf.constant([\"v\", \"d\", \"m\"])\n",
    "\n",
    "print(variable_tensor)\n",
    "print(constant_tensor)"
   ]
  },
  {
   "cell_type": "markdown",
   "id": "74204160",
   "metadata": {},
   "source": [
    "## Checking the rank of a tensor"
   ]
  },
  {
   "cell_type": "code",
   "execution_count": 7,
   "id": "52f0ab1d",
   "metadata": {},
   "outputs": [],
   "source": [
    "rank_tensor = tf.Variable([[\"hey\", \"ki\", \"de\"], [\"ko\", \"th\", \"fg\"]], [[\"d\", \"e\", \"b\"]])\n",
    "tf.rank(rank_tensor)"
   ]
  },
  {
   "cell_type": "code",
   "execution_count": 4,
   "id": "2e3ceff9",
   "metadata": {},
   "outputs": [
    {
     "data": {
      "text/plain": [
       "<tf.Tensor: shape=(), dtype=int32, numpy=2>"
      ]
     },
     "execution_count": 4,
     "metadata": {},
     "output_type": "execute_result"
    }
   ],
   "source": []
  },
  {
   "cell_type": "code",
   "execution_count": null,
   "id": "0f00e7e5",
   "metadata": {},
   "outputs": [],
   "source": []
  }
 ],
 "metadata": {
  "kernelspec": {
   "display_name": "Python 3 (ipykernel)",
   "language": "python",
   "name": "python3"
  },
  "language_info": {
   "codemirror_mode": {
    "name": "ipython",
    "version": 3
   },
   "file_extension": ".py",
   "mimetype": "text/x-python",
   "name": "python",
   "nbconvert_exporter": "python",
   "pygments_lexer": "ipython3",
   "version": "3.10.3"
  }
 },
 "nbformat": 4,
 "nbformat_minor": 5
}
