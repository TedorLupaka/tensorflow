{
 "cells": [
  {
   "cell_type": "markdown",
   "id": "facfaf80",
   "metadata": {},
   "source": [
    "# Deep Learning with Tensorflow"
   ]
  },
  {
   "cell_type": "code",
   "execution_count": 1,
   "id": "0d1cac28",
   "metadata": {},
   "outputs": [],
   "source": [
    "import tensorflow as tf\n",
    "import numpy as np\n"
   ]
  },
  {
   "cell_type": "markdown",
   "id": "af758b02",
   "metadata": {},
   "source": [
    "## Creating Tensors\n",
    "* Tensors are the basic building blocks in writing AI programs in tensorflow. A tensor can basically be defined as a multi-dimensional array of values.\n",
    "*"
   ]
  },
  {
   "cell_type": "code",
   "execution_count": null,
   "id": "8eb4d08b",
   "metadata": {},
   "outputs": [],
   "source": []
  },
  {
   "cell_type": "code",
   "execution_count": 7,
   "id": "a6aa2da4",
   "metadata": {},
   "outputs": [],
   "source": [
    "rank_tensor = tf.Variable([[\"hey\", \"ki\", \"de\"], [\"ko\", \"th\", \"fg\"]], [[\"d\", \"e\", \"b\"]])"
   ]
  },
  {
   "cell_type": "code",
   "execution_count": 8,
   "id": "7d1c7677",
   "metadata": {},
   "outputs": [
    {
     "data": {
      "text/plain": [
       "<tf.Tensor: shape=(), dtype=int32, numpy=2>"
      ]
     },
     "execution_count": 8,
     "metadata": {},
     "output_type": "execute_result"
    }
   ],
   "source": [
    "tf.rank(rank_tensor)"
   ]
  },
  {
   "cell_type": "code",
   "execution_count": null,
   "id": "329ca593",
   "metadata": {},
   "outputs": [],
   "source": []
  }
 ],
 "metadata": {
  "kernelspec": {
   "display_name": "Python 3 (ipykernel)",
   "language": "python",
   "name": "python3"
  },
  "language_info": {
   "codemirror_mode": {
    "name": "ipython",
    "version": 3
   },
   "file_extension": ".py",
   "mimetype": "text/x-python",
   "name": "python",
   "nbconvert_exporter": "python",
   "pygments_lexer": "ipython3",
   "version": "3.10.3"
  }
 },
 "nbformat": 4,
 "nbformat_minor": 5
}
